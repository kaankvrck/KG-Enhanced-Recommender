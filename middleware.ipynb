{
 "cells": [
  {
   "cell_type": "code",
   "execution_count": null,
   "id": "f6233830-1ee3-4682-be46-261b2fb7691a",
   "metadata": {},
   "outputs": [],
   "source": [
    "import nbformat\n",
    "from nbconvert.preprocessors import ExecutePreprocessor"
   ]
  },
  {
   "cell_type": "code",
   "execution_count": null,
   "id": "4fc8e194-aacc-4ac0-bcbd-1916da22f50b",
   "metadata": {},
   "outputs": [],
   "source": [
    "def run_notebook(notebook_path):\n",
    "    with open(notebook_path) as f:\n",
    "        nb = nbformat.read(f, as_version=4)\n",
    "        ep = ExecutePreprocessor(timeout=600, kernel_name='python3')\n",
    "        ep.preprocess(nb, {'metadata': {'path': './'}})"
   ]
  },
  {
   "cell_type": "code",
   "execution_count": null,
   "id": "ca049d84-62bf-4f1f-8c06-220bb4fda007",
   "metadata": {},
   "outputs": [],
   "source": [
    "notebooks = [\n",
    "    \"neo4j_import.ipynb\",\n",
    "    \"notebooks/data_preparation.ipynb\",\n",
    "    \"notebooks/model_training.ipynb\",\n",
    "    \"notebooks/recommendations.ipynb\"\n",
    "]"
   ]
  },
  {
   "cell_type": "code",
   "execution_count": null,
   "id": "5fe6630d-c1fe-41ca-acfd-82984144cb27",
   "metadata": {},
   "outputs": [],
   "source": [
    "for notebook in notebooks:\n",
    "    print(f\"Running {notebook}...\")\n",
    "    run_notebook(notebook)\n",
    "    print(f\"Finished running {notebook}.\")"
   ]
  }
 ],
 "metadata": {
  "kernelspec": {
   "display_name": "Python 3 (ipykernel)",
   "language": "python",
   "name": "python3"
  },
  "language_info": {
   "codemirror_mode": {
    "name": "ipython",
    "version": 3
   },
   "file_extension": ".py",
   "mimetype": "text/x-python",
   "name": "python",
   "nbconvert_exporter": "python",
   "pygments_lexer": "ipython3",
   "version": "3.8.6"
  }
 },
 "nbformat": 4,
 "nbformat_minor": 5
}
