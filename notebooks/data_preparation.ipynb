{
 "cells": [
  {
   "cell_type": "code",
   "execution_count": 1,
   "id": "c1c1c2a8-56c5-4bff-9496-344247e60bc1",
   "metadata": {},
   "outputs": [],
   "source": [
    "import os\n",
    "import pandas as pd\n",
    "import numpy as np\n",
    "from sklearn.preprocessing import LabelEncoder\n",
    "from sklearn.model_selection import train_test_split\n",
    "import pickle"
   ]
  },
  {
   "cell_type": "code",
   "execution_count": 2,
   "id": "b95953ee-d756-4afa-ba06-9d4c795c6889",
   "metadata": {},
   "outputs": [],
   "source": [
    "# Dynamic path settings\n",
    "BASE_DIR = os.path.dirname(os.path.dirname(os.path.abspath(\"__file__\")))\n",
    "DATA_DIR = os.path.join(BASE_DIR, \"dataset\")\n",
    "TRAIN_TEST_SPLIT_DIR = os.path.join(BASE_DIR, \"train_test_split\")"
   ]
  },
  {
   "cell_type": "code",
   "execution_count": 3,
   "id": "763339a4-2e4d-45c8-880e-5bead088a448",
   "metadata": {},
   "outputs": [],
   "source": [
    "# Check if directories exist and create if they don't\n",
    "os.makedirs(TRAIN_TEST_SPLIT_DIR, exist_ok=True)"
   ]
  },
  {
   "cell_type": "code",
   "execution_count": 4,
   "id": "7285dc58-d34b-4df3-ab6a-a4d396912ae3",
   "metadata": {},
   "outputs": [],
   "source": [
    "# File paths\n",
    "product_csv_path = os.path.join(DATA_DIR, \"product_details.csv\")\n",
    "customer_csv_path = os.path.join(DATA_DIR, \"customer_details.csv\")\n",
    "sales_csv_path = os.path.join(DATA_DIR, \"sales_data.csv\")"
   ]
  },
  {
   "cell_type": "code",
   "execution_count": 5,
   "id": "c92ae005-0c46-4b7f-87bf-a287a4d2afa3",
   "metadata": {},
   "outputs": [],
   "source": [
    "# Reading CSV files\n",
    "products_df = pd.read_csv(product_csv_path)\n",
    "customers_df = pd.read_csv(customer_csv_path)\n",
    "sales_df = pd.read_csv(sales_csv_path)"
   ]
  },
  {
   "cell_type": "code",
   "execution_count": 6,
   "id": "d6bec7de-e485-40f4-a3b6-6f4881977607",
   "metadata": {},
   "outputs": [
    {
     "name": "stdout",
     "output_type": "stream",
     "text": [
      "Products DataFrame missing values:\n",
      " Uniqe Id                     0\n",
      "Product Name                 0\n",
      "Brand Name               10002\n",
      "Asin                     10002\n",
      "Category                   830\n",
      "Upc Ean Code              9968\n",
      "List Price               10002\n",
      "Selling Price              107\n",
      "Quantity                 10002\n",
      "Model Number              1772\n",
      "About Product              273\n",
      "Product Specification     1632\n",
      "Technical Details          790\n",
      "Shipping Weight           1138\n",
      "Product Dimensions        9523\n",
      "Image                        0\n",
      "Variants                  7524\n",
      "Sku                      10002\n",
      "Product Url                  0\n",
      "Stock                    10002\n",
      "Product Details          10002\n",
      "Dimensions               10002\n",
      "Color                    10002\n",
      "Ingredients              10002\n",
      "Direction To Use         10002\n",
      "Is Amazon Seller             0\n",
      "Size Quantity Variant    10002\n",
      "Product Description      10002\n",
      "dtype: int64 \n",
      "\n",
      "Customers DataFrame missing values:\n",
      " Customer ID               0\n",
      "Age                       0\n",
      "Gender                    0\n",
      "Item Purchased            0\n",
      "Category                  0\n",
      "Purchase Amount (USD)     0\n",
      "Location                  0\n",
      "Size                      0\n",
      "Color                     0\n",
      "Season                    0\n",
      "Review Rating             0\n",
      "Subscription Status       0\n",
      "Shipping Type             0\n",
      "Discount Applied          0\n",
      "Promo Code Used           0\n",
      "Previous Purchases        0\n",
      "Payment Method            0\n",
      "Frequency of Purchases    0\n",
      "dtype: int64 \n",
      "\n",
      "Sales DataFrame missing values:\n",
      " user id              295\n",
      "product id           295\n",
      "Interaction type     423\n",
      "Time stamp           295\n",
      "Unnamed: 4          3294\n",
      "dtype: int64 \n",
      "\n"
     ]
    }
   ],
   "source": [
    "# Checking for missing values\n",
    "print(\"Products DataFrame missing values:\\n\", products_df.isnull().sum(), \"\\n\")\n",
    "print(\"Customers DataFrame missing values:\\n\", customers_df.isnull().sum(), \"\\n\")\n",
    "print(\"Sales DataFrame missing values:\\n\", sales_df.isnull().sum(), \"\\n\")"
   ]
  },
  {
   "cell_type": "code",
   "execution_count": 7,
   "id": "0b299945-923a-459c-97b2-afcf2d6bd85b",
   "metadata": {},
   "outputs": [],
   "source": [
    "# Dropping rows with missing values in specific columns\n",
    "sales_df.dropna(subset=['user id', 'product id', 'Interaction type', 'Time stamp'], inplace=True)"
   ]
  },
  {
   "cell_type": "code",
   "execution_count": 8,
   "id": "e363d032-ef61-4cc7-a682-c50811d72a8b",
   "metadata": {},
   "outputs": [
    {
     "name": "stdout",
     "output_type": "stream",
     "text": [
      "Products DataFrame:\n",
      "                            Uniqe Id   \n",
      "0  4c69b61db1fc16e7013b43fc926e502d  \\\n",
      "1  66d49bbed043f5be260fa9f7fbff5957   \n",
      "2  2c55cae269aebf53838484b0d7dd931a   \n",
      "3  18018b6bc416dab347b1b7db79994afa   \n",
      "4  e04b990e95bf73bbe6a3fa09785d7cd0   \n",
      "\n",
      "                                        Product Name  Brand Name  Asin   \n",
      "0  DB Longboards CoreFlex Crossbow 41\" Bamboo Fib...         NaN   NaN  \\\n",
      "1  Electronic Snap Circuits Mini Kits Classpack, ...         NaN   NaN   \n",
      "2  3Doodler Create Flexy 3D Printing Filament Ref...         NaN   NaN   \n",
      "3  Guillow Airplane Design Studio with Travel Cas...         NaN   NaN   \n",
      "4                   Woodstock- Collage 500 pc Puzzle         NaN   NaN   \n",
      "\n",
      "                                            Category Upc Ean Code  List Price   \n",
      "0  Sports & Outdoors | Outdoor Recreation | Skate...          NaN         NaN  \\\n",
      "1  Toys & Games | Learning & Education | Science ...          NaN         NaN   \n",
      "2          Toys & Games | Arts & Crafts | Craft Kits          NaN         NaN   \n",
      "3  Toys & Games | Hobbies | Models & Model Kits |...          NaN         NaN   \n",
      "4            Toys & Games | Puzzles | Jigsaw Puzzles          NaN         NaN   \n",
      "\n",
      "  Selling Price  Quantity Model Number  ...   \n",
      "0       $237.68       NaN          NaN  ...  \\\n",
      "1        $99.95       NaN        55324  ...   \n",
      "2        $34.99       NaN          NaN  ...   \n",
      "3        $28.91       NaN          142  ...   \n",
      "4        $17.49       NaN        62151  ...   \n",
      "\n",
      "                                         Product Url Stock Product Details   \n",
      "0  https://www.amazon.com/DB-Longboards-CoreFlex-...   NaN             NaN  \\\n",
      "1  https://www.amazon.com/Electronic-Circuits-Cla...   NaN             NaN   \n",
      "2  https://www.amazon.com/3Doodler-Plastic-Innova...   NaN             NaN   \n",
      "3  https://www.amazon.com/Guillow-Airplane-Design...   NaN             NaN   \n",
      "4  https://www.amazon.com/Woodstock-Collage-500-p...   NaN             NaN   \n",
      "\n",
      "  Dimensions Color Ingredients Direction To Use  Is Amazon Seller   \n",
      "0        NaN   NaN         NaN              NaN                 Y  \\\n",
      "1        NaN   NaN         NaN              NaN                 Y   \n",
      "2        NaN   NaN         NaN              NaN                 Y   \n",
      "3        NaN   NaN         NaN              NaN                 Y   \n",
      "4        NaN   NaN         NaN              NaN                 Y   \n",
      "\n",
      "  Size Quantity Variant  Product Description  \n",
      "0                   NaN                  NaN  \n",
      "1                   NaN                  NaN  \n",
      "2                   NaN                  NaN  \n",
      "3                   NaN                  NaN  \n",
      "4                   NaN                  NaN  \n",
      "\n",
      "[5 rows x 28 columns] \n",
      "\n",
      "Customers DataFrame:\n",
      "    Customer ID  Age Gender Item Purchased  Category  Purchase Amount (USD)   \n",
      "0            1   55   Male         Blouse  Clothing                     53  \\\n",
      "1            2   19   Male        Sweater  Clothing                     64   \n",
      "2            3   50   Male          Jeans  Clothing                     73   \n",
      "3            4   21   Male        Sandals  Footwear                     90   \n",
      "4            5   45   Male         Blouse  Clothing                     49   \n",
      "\n",
      "        Location Size      Color  Season  Review Rating Subscription Status   \n",
      "0       Kentucky    L       Gray  Winter            3.1                 Yes  \\\n",
      "1          Maine    L     Maroon  Winter            3.1                 Yes   \n",
      "2  Massachusetts    S     Maroon  Spring            3.1                 Yes   \n",
      "3   Rhode Island    M     Maroon  Spring            3.5                 Yes   \n",
      "4         Oregon    M  Turquoise  Spring            2.7                 Yes   \n",
      "\n",
      "   Shipping Type Discount Applied Promo Code Used  Previous Purchases   \n",
      "0        Express              Yes             Yes                  14  \\\n",
      "1        Express              Yes             Yes                   2   \n",
      "2  Free Shipping              Yes             Yes                  23   \n",
      "3   Next Day Air              Yes             Yes                  49   \n",
      "4  Free Shipping              Yes             Yes                  31   \n",
      "\n",
      "  Payment Method Frequency of Purchases  \n",
      "0          Venmo            Fortnightly  \n",
      "1           Cash            Fortnightly  \n",
      "2    Credit Card                 Weekly  \n",
      "3         PayPal                 Weekly  \n",
      "4         PayPal               Annually   \n",
      "\n",
      "Sales DataFrame:\n",
      "    user id                        product id Interaction type   \n",
      "0      1.0  4c69b61db1fc16e7013b43fc926e502d         purchase  \\\n",
      "1      2.0  66d49bbed043f5be260fa9f7fbff5957             view   \n",
      "2      3.0  2c55cae269aebf53838484b0d7dd931a             like   \n",
      "3      4.0  18018b6bc416dab347b1b7db79994afa             view   \n",
      "4      5.0  e04b990e95bf73bbe6a3fa09785d7cd0             like   \n",
      "\n",
      "        Time stamp  Unnamed: 4  \n",
      "0  10/10/2023 8:00         NaN  \n",
      "1  11/10/2023 8:00         NaN  \n",
      "2  12/10/2023 8:00         NaN  \n",
      "3  13/10/2023 8:00         NaN  \n",
      "4  14/10/2023 8:00         NaN   \n",
      "\n"
     ]
    }
   ],
   "source": [
    "# Checking the data\n",
    "print(\"Products DataFrame:\\n\", products_df.head(), \"\\n\")\n",
    "print(\"Customers DataFrame:\\n\", customers_df.head(), \"\\n\")\n",
    "print(\"Sales DataFrame:\\n\", sales_df.head(), \"\\n\")"
   ]
  },
  {
   "cell_type": "code",
   "execution_count": 9,
   "id": "686403fd-0224-473e-95c0-cfb9f0771f15",
   "metadata": {},
   "outputs": [],
   "source": [
    "# Converting timestamp to datetime format\n",
    "try:\n",
    "    sales_df['Time stamp'] = pd.to_datetime(sales_df['Time stamp'], dayfirst=True)\n",
    "except Exception as e:\n",
    "    raise ValueError(f\"Error converting 'Time stamp' to datetime: {e}\")"
   ]
  },
  {
   "cell_type": "code",
   "execution_count": 10,
   "id": "78e05c5e-a790-4a4e-9562-f54fefcc632b",
   "metadata": {},
   "outputs": [],
   "source": [
    "# User and product IDs to numeric values Mapping\n",
    "with open(os.path.join(DATA_DIR, 'user_id_map.pkl'), 'rb') as f:\n",
    "    user_id_map = pickle.load(f)\n",
    "with open(os.path.join(DATA_DIR, 'product_id_map.pkl'), 'rb') as f:\n",
    "    product_id_map = pickle.load(f)"
   ]
  },
  {
   "cell_type": "code",
   "execution_count": 11,
   "id": "31e00cd2-495f-4b48-821a-f55ea5ff5029",
   "metadata": {},
   "outputs": [],
   "source": [
    "sales_df['user_id'] = sales_df['user id'].map({v: k for k, v in user_id_map.items()})\n",
    "sales_df['product_id'] = sales_df['product id'].map({v: k for k, v in product_id_map.items()})"
   ]
  },
  {
   "cell_type": "code",
   "execution_count": 12,
   "id": "3f42ebcf-3f54-4399-8de1-eb35bbc0aec4",
   "metadata": {},
   "outputs": [],
   "source": [
    "# Map interaction types to numeric values\n",
    "interaction_mapping = {'view': 1, 'like': 2, 'purchase': 3}\n",
    "sales_df['interaction_type'] = sales_df['Interaction type'].map(interaction_mapping)"
   ]
  },
  {
   "cell_type": "code",
   "execution_count": 13,
   "id": "7dd61850-d236-44ff-9ca0-915266867b48",
   "metadata": {},
   "outputs": [],
   "source": [
    "# Splitting data into train and test sets ensuring overlap\n",
    "unique_users = sales_df['user_id'].unique()\n",
    "unique_products = sales_df['product_id'].unique()\n",
    "\n",
    "train_users, test_users = train_test_split(unique_users, test_size=0.2, random_state=42)\n",
    "train_products, test_products = train_test_split(unique_products, test_size=0.2, random_state=42)"
   ]
  },
  {
   "cell_type": "code",
   "execution_count": 14,
   "id": "5364bead-ff88-4e48-888a-6c3d72a058d4",
   "metadata": {},
   "outputs": [],
   "source": [
    "# Ensure overlap by including a portion of train users/products in test set\n",
    "overlap_user_ratio = 0.5\n",
    "overlap_product_ratio = 0.5\n",
    "\n",
    "test_users = list(train_users[:int(len(train_users) * overlap_user_ratio)]) + list(test_users)\n",
    "test_products = list(train_products[:int(len(train_products) * overlap_product_ratio)]) + list(test_products)"
   ]
  },
  {
   "cell_type": "code",
   "execution_count": 15,
   "id": "afa96c1e-09f1-4c94-b910-af84bb0c52f4",
   "metadata": {},
   "outputs": [],
   "source": [
    "# Remove duplicates\n",
    "test_users = list(set(test_users))\n",
    "test_products = list(set(test_products))"
   ]
  },
  {
   "cell_type": "code",
   "execution_count": 16,
   "id": "7757fca1-05c2-4b01-b076-e3fcf90a4884",
   "metadata": {},
   "outputs": [],
   "source": [
    "# Splitting the data\n",
    "train_df = sales_df[sales_df['user_id'].isin(train_users) & sales_df['product_id'].isin(train_products)]\n",
    "test_df = sales_df[sales_df['user_id'].isin(test_users) & sales_df['product_id'].isin(test_products)]"
   ]
  },
  {
   "cell_type": "code",
   "execution_count": 17,
   "id": "e1ea71a3-2a43-4c15-a36f-5ea2db43a8da",
   "metadata": {},
   "outputs": [],
   "source": [
    "# Saving processed data\n",
    "train_sales_path = os.path.join(TRAIN_TEST_SPLIT_DIR, \"train_sales_data.csv\")\n",
    "test_sales_path = os.path.join(TRAIN_TEST_SPLIT_DIR, \"test_sales_data.csv\")\n",
    "\n",
    "train_df.to_csv(train_sales_path, index=False)\n",
    "test_df.to_csv(test_sales_path, index=False)"
   ]
  },
  {
   "cell_type": "code",
   "execution_count": 18,
   "id": "14864f99-6df2-44a6-b027-94758a0d6db3",
   "metadata": {},
   "outputs": [
    {
     "name": "stdout",
     "output_type": "stream",
     "text": [
      "Training sales data saved to C:\\Users\\kaank\\Desktop\\Test\\KG-Enhanced-Recommender\\train_test_split\\train_sales_data.csv\n",
      "Test sales data saved to C:\\Users\\kaank\\Desktop\\Test\\KG-Enhanced-Recommender\\train_test_split\\test_sales_data.csv\n"
     ]
    }
   ],
   "source": [
    "print(f\"Training sales data saved to {train_sales_path}\")\n",
    "print(f\"Test sales data saved to {test_sales_path}\")"
   ]
  },
  {
   "cell_type": "code",
   "execution_count": 19,
   "id": "e1315543-00fe-4417-af4f-6169e5a67ccc",
   "metadata": {},
   "outputs": [
    {
     "name": "stdout",
     "output_type": "stream",
     "text": [
      "Train DataFrame:\n",
      "    user id                        product id Interaction type   \n",
      "0      1.0  4c69b61db1fc16e7013b43fc926e502d         purchase  \\\n",
      "1      2.0  66d49bbed043f5be260fa9f7fbff5957             view   \n",
      "2      3.0  2c55cae269aebf53838484b0d7dd931a             like   \n",
      "3      4.0  18018b6bc416dab347b1b7db79994afa             view   \n",
      "4      5.0  e04b990e95bf73bbe6a3fa09785d7cd0             like   \n",
      "\n",
      "           Time stamp  Unnamed: 4  user_id  product_id  interaction_type  \n",
      "0 2023-10-10 08:00:00         NaN        0         905                 3  \n",
      "1 2023-10-11 08:00:00         NaN        1        1178                 1  \n",
      "2 2023-10-12 08:00:00         NaN        2         517                 2  \n",
      "3 2023-10-13 08:00:00         NaN        3         276                 1  \n",
      "4 2023-10-14 08:00:00         NaN        4        2638                 2   \n",
      "\n",
      "Test DataFrame:\n",
      "     user id                        product id Interaction type   \n",
      "2       3.0  2c55cae269aebf53838484b0d7dd931a             like  \\\n",
      "6       7.0  40d3cd16b41970ae6872e914aecf2c8e         purchase   \n",
      "7       8.0  bc178f33a04dbccefa95b165f8b56830             view   \n",
      "8       9.0  cc2083338a16c3fe2f7895289d2e98fe             like   \n",
      "13     14.0  82c86a4d24dce5e14303033d7b658b78             view   \n",
      "\n",
      "            Time stamp  Unnamed: 4  user_id  product_id  interaction_type  \n",
      "2  2023-10-12 08:00:00         NaN        2         517                 2  \n",
      "6  2023-10-16 08:00:00         NaN        6         759                 3  \n",
      "7  2023-10-17 08:00:00         NaN        7        2235                 1  \n",
      "8  2023-10-18 08:00:00         NaN        8        2405                 2  \n",
      "13 2023-10-23 08:00:00         NaN       13        1510                 1   \n",
      "\n"
     ]
    }
   ],
   "source": [
    "# Print dataframes to check\n",
    "print(\"Train DataFrame:\\n\", train_df.head(), \"\\n\")\n",
    "print(\"Test DataFrame:\\n\", test_df.head(), \"\\n\")"
   ]
  }
 ],
 "metadata": {
  "kernelspec": {
   "display_name": "Python 3 (ipykernel)",
   "language": "python",
   "name": "python3"
  },
  "language_info": {
   "codemirror_mode": {
    "name": "ipython",
    "version": 3
   },
   "file_extension": ".py",
   "mimetype": "text/x-python",
   "name": "python",
   "nbconvert_exporter": "python",
   "pygments_lexer": "ipython3",
   "version": "3.8.6"
  }
 },
 "nbformat": 4,
 "nbformat_minor": 5
}
