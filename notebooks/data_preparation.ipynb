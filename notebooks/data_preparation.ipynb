{
 "cells": [
  {
   "cell_type": "code",
   "execution_count": 13,
   "id": "c1c1c2a8-56c5-4bff-9496-344247e60bc1",
   "metadata": {},
   "outputs": [],
   "source": [
    "import os\n",
    "import pandas as pd\n",
    "import numpy as np\n",
    "from sklearn.preprocessing import LabelEncoder\n",
    "from sklearn.model_selection import train_test_split"
   ]
  },
  {
   "cell_type": "code",
   "execution_count": 14,
   "id": "b95953ee-d756-4afa-ba06-9d4c795c6889",
   "metadata": {},
   "outputs": [],
   "source": [
    "# Dynamic path settings\n",
    "BASE_DIR = os.path.dirname(os.path.dirname(os.path.abspath(\"__file__\")))\n",
    "DATA_DIR = os.path.join(BASE_DIR, \"dataset\")\n",
    "TRAIN_TEST_SPLIT_DIR = os.path.join(BASE_DIR, \"train_test_split\")"
   ]
  },
  {
   "cell_type": "code",
   "execution_count": 15,
   "id": "763339a4-2e4d-45c8-880e-5bead088a448",
   "metadata": {},
   "outputs": [],
   "source": [
    "# Check if directories exist and create if they don't\n",
    "if not os.path.exists(TRAIN_TEST_SPLIT_DIR):\n",
    "    os.makedirs(TRAIN_TEST_SPLIT_DIR)"
   ]
  },
  {
   "cell_type": "code",
   "execution_count": 16,
   "id": "7285dc58-d34b-4df3-ab6a-a4d396912ae3",
   "metadata": {},
   "outputs": [],
   "source": [
    "# File paths\n",
    "product_csv_path = os.path.join(DATA_DIR, \"product_details.csv\")\n",
    "customer_csv_path = os.path.join(DATA_DIR, \"customer_details.csv\")\n",
    "sales_csv_path = os.path.join(DATA_DIR, \"sales_data.csv\")"
   ]
  },
  {
   "cell_type": "code",
   "execution_count": 17,
   "id": "c92ae005-0c46-4b7f-87bf-a287a4d2afa3",
   "metadata": {},
   "outputs": [],
   "source": [
    "# Reading CSV files\n",
    "products_df = pd.read_csv(product_csv_path)\n",
    "customers_df = pd.read_csv(customer_csv_path)\n",
    "sales_df = pd.read_csv(sales_csv_path)"
   ]
  },
  {
   "cell_type": "code",
   "execution_count": 18,
   "id": "0b299945-923a-459c-97b2-afcf2d6bd85b",
   "metadata": {},
   "outputs": [],
   "source": [
    "# Dropping rows with missing values in specific columns\n",
    "sales_df.dropna(subset=['user id', 'product id', 'Interaction type', 'Time stamp'], inplace=True)"
   ]
  },
  {
   "cell_type": "code",
   "execution_count": 19,
   "id": "e363d032-ef61-4cc7-a682-c50811d72a8b",
   "metadata": {},
   "outputs": [
    {
     "name": "stdout",
     "output_type": "stream",
     "text": [
      "Products DataFrame:\n",
      "                            Uniqe Id   \n",
      "0  4c69b61db1fc16e7013b43fc926e502d  \\\n",
      "1  66d49bbed043f5be260fa9f7fbff5957   \n",
      "2  2c55cae269aebf53838484b0d7dd931a   \n",
      "3  18018b6bc416dab347b1b7db79994afa   \n",
      "4  e04b990e95bf73bbe6a3fa09785d7cd0   \n",
      "\n",
      "                                        Product Name  Brand Name  Asin   \n",
      "0  DB Longboards CoreFlex Crossbow 41\" Bamboo Fib...         NaN   NaN  \\\n",
      "1  Electronic Snap Circuits Mini Kits Classpack, ...         NaN   NaN   \n",
      "2  3Doodler Create Flexy 3D Printing Filament Ref...         NaN   NaN   \n",
      "3  Guillow Airplane Design Studio with Travel Cas...         NaN   NaN   \n",
      "4                   Woodstock- Collage 500 pc Puzzle         NaN   NaN   \n",
      "\n",
      "                                            Category Upc Ean Code  List Price   \n",
      "0  Sports & Outdoors | Outdoor Recreation | Skate...          NaN         NaN  \\\n",
      "1  Toys & Games | Learning & Education | Science ...          NaN         NaN   \n",
      "2          Toys & Games | Arts & Crafts | Craft Kits          NaN         NaN   \n",
      "3  Toys & Games | Hobbies | Models & Model Kits |...          NaN         NaN   \n",
      "4            Toys & Games | Puzzles | Jigsaw Puzzles          NaN         NaN   \n",
      "\n",
      "  Selling Price  Quantity Model Number  ...   \n",
      "0       $237.68       NaN          NaN  ...  \\\n",
      "1        $99.95       NaN        55324  ...   \n",
      "2        $34.99       NaN          NaN  ...   \n",
      "3        $28.91       NaN          142  ...   \n",
      "4        $17.49       NaN        62151  ...   \n",
      "\n",
      "                                         Product Url Stock Product Details   \n",
      "0  https://www.amazon.com/DB-Longboards-CoreFlex-...   NaN             NaN  \\\n",
      "1  https://www.amazon.com/Electronic-Circuits-Cla...   NaN             NaN   \n",
      "2  https://www.amazon.com/3Doodler-Plastic-Innova...   NaN             NaN   \n",
      "3  https://www.amazon.com/Guillow-Airplane-Design...   NaN             NaN   \n",
      "4  https://www.amazon.com/Woodstock-Collage-500-p...   NaN             NaN   \n",
      "\n",
      "  Dimensions Color Ingredients Direction To Use  Is Amazon Seller   \n",
      "0        NaN   NaN         NaN              NaN                 Y  \\\n",
      "1        NaN   NaN         NaN              NaN                 Y   \n",
      "2        NaN   NaN         NaN              NaN                 Y   \n",
      "3        NaN   NaN         NaN              NaN                 Y   \n",
      "4        NaN   NaN         NaN              NaN                 Y   \n",
      "\n",
      "  Size Quantity Variant  Product Description  \n",
      "0                   NaN                  NaN  \n",
      "1                   NaN                  NaN  \n",
      "2                   NaN                  NaN  \n",
      "3                   NaN                  NaN  \n",
      "4                   NaN                  NaN  \n",
      "\n",
      "[5 rows x 28 columns] \n",
      "\n",
      "Customers DataFrame:\n",
      "    Customer ID  Age Gender Item Purchased  Category  Purchase Amount (USD)   \n",
      "0            1   55   Male         Blouse  Clothing                     53  \\\n",
      "1            2   19   Male        Sweater  Clothing                     64   \n",
      "2            3   50   Male          Jeans  Clothing                     73   \n",
      "3            4   21   Male        Sandals  Footwear                     90   \n",
      "4            5   45   Male         Blouse  Clothing                     49   \n",
      "\n",
      "        Location Size      Color  Season  Review Rating Subscription Status   \n",
      "0       Kentucky    L       Gray  Winter            3.1                 Yes  \\\n",
      "1          Maine    L     Maroon  Winter            3.1                 Yes   \n",
      "2  Massachusetts    S     Maroon  Spring            3.1                 Yes   \n",
      "3   Rhode Island    M     Maroon  Spring            3.5                 Yes   \n",
      "4         Oregon    M  Turquoise  Spring            2.7                 Yes   \n",
      "\n",
      "   Shipping Type Discount Applied Promo Code Used  Previous Purchases   \n",
      "0        Express              Yes             Yes                  14  \\\n",
      "1        Express              Yes             Yes                   2   \n",
      "2  Free Shipping              Yes             Yes                  23   \n",
      "3   Next Day Air              Yes             Yes                  49   \n",
      "4  Free Shipping              Yes             Yes                  31   \n",
      "\n",
      "  Payment Method Frequency of Purchases  \n",
      "0          Venmo            Fortnightly  \n",
      "1           Cash            Fortnightly  \n",
      "2    Credit Card                 Weekly  \n",
      "3         PayPal                 Weekly  \n",
      "4         PayPal               Annually   \n",
      "\n",
      "Sales DataFrame:\n",
      "    user id                        product id Interaction type   \n",
      "0      1.0  4c69b61db1fc16e7013b43fc926e502d         purchase  \\\n",
      "1      2.0  66d49bbed043f5be260fa9f7fbff5957             view   \n",
      "2      3.0  2c55cae269aebf53838484b0d7dd931a             like   \n",
      "3      4.0  18018b6bc416dab347b1b7db79994afa             view   \n",
      "4      5.0  e04b990e95bf73bbe6a3fa09785d7cd0             like   \n",
      "\n",
      "        Time stamp  Unnamed: 4  \n",
      "0  10/10/2023 8:00         NaN  \n",
      "1  11/10/2023 8:00         NaN  \n",
      "2  12/10/2023 8:00         NaN  \n",
      "3  13/10/2023 8:00         NaN  \n",
      "4  14/10/2023 8:00         NaN   \n",
      "\n"
     ]
    }
   ],
   "source": [
    "# Checking the data\n",
    "print(\"Products DataFrame:\\n\", products_df.head(), \"\\n\")\n",
    "print(\"Customers DataFrame:\\n\", customers_df.head(), \"\\n\")\n",
    "print(\"Sales DataFrame:\\n\", sales_df.head(), \"\\n\")"
   ]
  },
  {
   "cell_type": "code",
   "execution_count": 20,
   "id": "686403fd-0224-473e-95c0-cfb9f0771f15",
   "metadata": {},
   "outputs": [],
   "source": [
    "# Converting timestamp to datetime format\n",
    "try:\n",
    "    sales_df['Time stamp'] = pd.to_datetime(sales_df['Time stamp'], dayfirst=True)\n",
    "except Exception as e:\n",
    "    raise ValueError(f\"Error converting 'Time stamp' to datetime: {e}\")"
   ]
  },
  {
   "cell_type": "code",
   "execution_count": 21,
   "id": "78e05c5e-a790-4a4e-9562-f54fefcc632b",
   "metadata": {},
   "outputs": [],
   "source": [
    "# Encoding user and product IDs to numeric values\n",
    "user_encoder = LabelEncoder()\n",
    "product_encoder = LabelEncoder()\n",
    "sales_df['user_id'] = user_encoder.fit_transform(sales_df['user id'])\n",
    "sales_df['product_id'] = product_encoder.fit_transform(sales_df['product id'])"
   ]
  },
  {
   "cell_type": "code",
   "execution_count": 22,
   "id": "3f42ebcf-3f54-4399-8de1-eb35bbc0aec4",
   "metadata": {},
   "outputs": [],
   "source": [
    "# Map interaction types to numeric values\n",
    "interaction_mapping = {'view': 1, 'like': 2, 'purchase': 3}\n",
    "sales_df['interaction_type'] = sales_df['Interaction type'].map(interaction_mapping)"
   ]
  },
  {
   "cell_type": "code",
   "execution_count": 23,
   "id": "caef41ba-1ba0-4611-b6be-8e8a7d479e99",
   "metadata": {},
   "outputs": [],
   "source": [
    "# Splitting data into training and test sets\n",
    "train_df, test_df = train_test_split(sales_df, test_size=0.2, random_state=42)"
   ]
  },
  {
   "cell_type": "code",
   "execution_count": 24,
   "id": "e1ea71a3-2a43-4c15-a36f-5ea2db43a8da",
   "metadata": {},
   "outputs": [],
   "source": [
    "# Saving processed data\n",
    "train_sales_path = os.path.join(TRAIN_TEST_SPLIT_DIR, \"train_sales_data.csv\")\n",
    "test_sales_path = os.path.join(TRAIN_TEST_SPLIT_DIR, \"test_sales_data.csv\")\n",
    "\n",
    "train_df.to_csv(train_sales_path, index=False)\n",
    "test_df.to_csv(test_sales_path, index=False)"
   ]
  },
  {
   "cell_type": "code",
   "execution_count": 25,
   "id": "14864f99-6df2-44a6-b027-94758a0d6db3",
   "metadata": {},
   "outputs": [
    {
     "name": "stdout",
     "output_type": "stream",
     "text": [
      "Training sales data saved to C:\\Users\\kaank\\Desktop\\Test\\KG-Enhanced-Recommender\\train_test_split\\train_sales_data.csv\n",
      "Test sales data saved to C:\\Users\\kaank\\Desktop\\Test\\KG-Enhanced-Recommender\\train_test_split\\test_sales_data.csv\n"
     ]
    }
   ],
   "source": [
    "print(f\"Training sales data saved to {train_sales_path}\")\n",
    "print(f\"Test sales data saved to {test_sales_path}\")"
   ]
  },
  {
   "cell_type": "code",
   "execution_count": null,
   "id": "0ec3af97-189a-4900-804b-d0cc6655eaf1",
   "metadata": {},
   "outputs": [],
   "source": []
  }
 ],
 "metadata": {
  "kernelspec": {
   "display_name": "Python 3 (ipykernel)",
   "language": "python",
   "name": "python3"
  },
  "language_info": {
   "codemirror_mode": {
    "name": "ipython",
    "version": 3
   },
   "file_extension": ".py",
   "mimetype": "text/x-python",
   "name": "python",
   "nbconvert_exporter": "python",
   "pygments_lexer": "ipython3",
   "version": "3.8.6"
  }
 },
 "nbformat": 4,
 "nbformat_minor": 5
}
