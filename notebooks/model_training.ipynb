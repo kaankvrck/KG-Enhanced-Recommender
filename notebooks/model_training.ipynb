{
 "cells": [
  {
   "cell_type": "code",
   "execution_count": 1,
   "id": "5496de8c-2fa1-4fdf-a48a-11da5af6cca6",
   "metadata": {},
   "outputs": [],
   "source": [
    "from pyspark.ml.recommendation import ALS\n",
    "from pyspark.sql import SparkSession\n",
    "from pyspark.sql import Row\n",
    "import pandas as pd\n",
    "import os\n",
    "import sys\n"
   ]
  },
  {
   "cell_type": "code",
   "execution_count": 2,
   "id": "86cb2d05-95d7-4cea-b42a-f6c03f014de0",
   "metadata": {},
   "outputs": [],
   "source": [
    "os.environ['PYSPARK_PYTHON'] = sys.executable\n",
    "os.environ['PYSPARK_DRIVER_PYTHON'] = sys.executable"
   ]
  },
  {
   "cell_type": "code",
   "execution_count": 3,
   "id": "ff06fc2e-81b4-4faa-a8f2-9577dc2b71d6",
   "metadata": {},
   "outputs": [],
   "source": [
    "# Dynamic path settings\n",
    "BASE_DIR = os.path.dirname(os.path.dirname(os.path.abspath(\"__file__\")))\n",
    "TRAIN_TEST_SPLIT_DIR = os.path.join(BASE_DIR, \"train_test_split\")"
   ]
  },
  {
   "cell_type": "code",
   "execution_count": 4,
   "id": "169e4a41-d33b-4fb4-ad8f-6e592e595e8e",
   "metadata": {},
   "outputs": [],
   "source": [
    "spark = SparkSession.builder \\\n",
    "    .appName(\"RecommenderSystem\") \\\n",
    "    .master(\"local[*]\") \\\n",
    "    .config(\"spark.executor.memory\", \"4g\") \\\n",
    "    .config(\"spark.driver.memory\", \"4g\") \\\n",
    "    .config(\"spark.python.worker.reuse\", \"false\") \\\n",
    "    .config(\"spark.local.dir\", \"C:/tmp/spark-temp\") \\\n",
    "    .config(\"spark.network.timeout\", \"600s\") \\\n",
    "    .config(\"spark.executor.heartbeatInterval\", \"60s\") \\\n",
    "    .config(\"spark.ui.port\", \"4040\") \\\n",
    "    .getOrCreate()"
   ]
  },
  {
   "cell_type": "code",
   "execution_count": 5,
   "id": "42e9229d-d9ed-49df-8030-69f9debeba00",
   "metadata": {},
   "outputs": [],
   "source": [
    "# Load training data\n",
    "train_sales_path = os.path.join(TRAIN_TEST_SPLIT_DIR, \"train_sales_data.csv\")\n",
    "train_df = pd.read_csv(train_sales_path)"
   ]
  },
  {
   "cell_type": "code",
   "execution_count": 6,
   "id": "cf33ff1e-0a4c-44a7-8d9d-72a29cbbeb62",
   "metadata": {},
   "outputs": [],
   "source": [
    "# Ensure there are data rows in training data\n",
    "if train_df.empty:\n",
    "    raise ValueError(\"Training DataFrame is empty.\")"
   ]
  },
  {
   "cell_type": "code",
   "execution_count": 7,
   "id": "627877c8-e153-43ab-b179-5a39996e7106",
   "metadata": {},
   "outputs": [],
   "source": [
    "# Convert interaction_type column to numeric\n",
    "train_df['interaction_type'] = pd.to_numeric(train_df['interaction_type'], errors='coerce')\n",
    "train_df.dropna(subset=['interaction_type'], inplace=True)"
   ]
  },
  {
   "cell_type": "code",
   "execution_count": 8,
   "id": "fb80a08a-df94-49fc-8131-33599b88a4e2",
   "metadata": {},
   "outputs": [],
   "source": [
    "# Check if the dataframe is still empty after conversion and dropping NA values\n",
    "if train_df.empty:\n",
    "    raise ValueError(\"Training DataFrame is empty after converting 'interaction_type' to numeric and dropping NA values.\")"
   ]
  },
  {
   "cell_type": "code",
   "execution_count": 9,
   "id": "e0a69776-52f6-4db7-bc99-83aa88b20a79",
   "metadata": {},
   "outputs": [],
   "source": [
    "# Convert training data to Spark DataFrame\n",
    "train_data = [Row(user_id=int(row.user_id), product_id=int(row.product_id), interaction_type=float(row['interaction_type'])) for index, row in train_df.iterrows()]\n",
    "train_df_spark = spark.createDataFrame(train_data)"
   ]
  },
  {
   "cell_type": "code",
   "execution_count": 10,
   "id": "c0dea9d5-01c6-43d9-84b2-905a9dfd28fc",
   "metadata": {},
   "outputs": [],
   "source": [
    "# ALS modeling\n",
    "als = ALS(\n",
    "    maxIter=10,\n",
    "    regParam=0.1,\n",
    "    userCol=\"user_id\",\n",
    "    itemCol=\"product_id\",\n",
    "    ratingCol=\"interaction_type\",\n",
    "    coldStartStrategy=\"drop\"\n",
    ")"
   ]
  },
  {
   "cell_type": "code",
   "execution_count": 11,
   "id": "0f8d7577-dbb3-4d96-a7b7-b973e87859ff",
   "metadata": {},
   "outputs": [],
   "source": [
    "# Training the model\n",
    "try:\n",
    "    model = als.fit(train_df_spark)\n",
    "except Py4JJavaError as e:\n",
    "    # Hata mesajını yazdır\n",
    "    print(f\"An error occurred: {e.java_exception.getMessage()}\")\n",
    "    # Hatanın detaylarını yazdır\n",
    "    print(e)"
   ]
  },
  {
   "cell_type": "code",
   "execution_count": 12,
   "id": "6b92e3fc-9206-4ec3-98e2-a5e3669acfc3",
   "metadata": {},
   "outputs": [
    {
     "name": "stdout",
     "output_type": "stream",
     "text": [
      "ALSModel: uid=ALS_462b795855fd, rank=10\n"
     ]
    }
   ],
   "source": [
    "print(model)"
   ]
  },
  {
   "cell_type": "code",
   "execution_count": 13,
   "id": "829c4563-62cc-4144-83db-186a54844c9a",
   "metadata": {},
   "outputs": [],
   "source": [
    "# Saving the trained model\n",
    "model_path = os.path.join(BASE_DIR, \"als_model\")\n",
    "model.save(model_path)"
   ]
  },
  {
   "cell_type": "code",
   "execution_count": null,
   "id": "8be5d49f-43e5-4a21-a594-242cae226e30",
   "metadata": {},
   "outputs": [],
   "source": []
  }
 ],
 "metadata": {
  "kernelspec": {
   "display_name": "Python 3 (ipykernel)",
   "language": "python",
   "name": "python3"
  },
  "language_info": {
   "codemirror_mode": {
    "name": "ipython",
    "version": 3
   },
   "file_extension": ".py",
   "mimetype": "text/x-python",
   "name": "python",
   "nbconvert_exporter": "python",
   "pygments_lexer": "ipython3",
   "version": "3.8.6"
  }
 },
 "nbformat": 4,
 "nbformat_minor": 5
}
