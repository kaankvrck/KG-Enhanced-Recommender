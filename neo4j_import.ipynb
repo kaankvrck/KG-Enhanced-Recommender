{
 "cells": [
  {
   "cell_type": "code",
   "execution_count": 1,
   "id": "415a5904-b036-4ae7-8471-531d85872e80",
   "metadata": {},
   "outputs": [],
   "source": [
    "from py2neo import Graph, Node, Relationship\n",
    "import pandas as pd\n",
    "import os\n",
    "import pickle\n",
    "from sklearn.preprocessing import LabelEncoder"
   ]
  },
  {
   "cell_type": "code",
   "execution_count": 2,
   "id": "521b9f94-f3e9-4dd1-a576-94c2cb2707e3",
   "metadata": {},
   "outputs": [],
   "source": [
    "# Dynamic path settings\n",
    "BASE_DIR = os.path.dirname(os.path.abspath(\"__file__\"))\n",
    "DATA_DIR = os.path.join(BASE_DIR, \"dataset\")"
   ]
  },
  {
   "cell_type": "code",
   "execution_count": 3,
   "id": "11643869-2b57-429b-a235-4e17a969819c",
   "metadata": {},
   "outputs": [],
   "source": [
    "# File paths\n",
    "product_csv_path = os.path.join(DATA_DIR, \"product_details.csv\")\n",
    "customer_csv_path = os.path.join(DATA_DIR, \"customer_details.csv\")\n",
    "sales_csv_path = os.path.join(DATA_DIR, \"sales_data.csv\")"
   ]
  },
  {
   "cell_type": "code",
   "execution_count": 4,
   "id": "96e952c1-c476-4ba9-a409-b09ed8061878",
   "metadata": {},
   "outputs": [],
   "source": [
    "# Reading CSV files\n",
    "products_df = pd.read_csv(product_csv_path)\n",
    "customers_df = pd.read_csv(customer_csv_path)\n",
    "sales_df = pd.read_csv(sales_csv_path)"
   ]
  },
  {
   "cell_type": "code",
   "execution_count": 5,
   "id": "7e698b5d-8413-4b32-87ed-2614ef01e3b3",
   "metadata": {},
   "outputs": [],
   "source": [
    "# Encoding user and product IDs to numeric values\n",
    "user_encoder = LabelEncoder()\n",
    "product_encoder = LabelEncoder()\n",
    "sales_df['encoded_user_id'] = user_encoder.fit_transform(sales_df['user id'])\n",
    "sales_df['encoded_product_id'] = product_encoder.fit_transform(sales_df['product id'])"
   ]
  },
  {
   "cell_type": "code",
   "execution_count": 6,
   "id": "efb15414-1a78-462f-a74d-57a25118855b",
   "metadata": {},
   "outputs": [],
   "source": [
    "# Mapping user and product IDs\n",
    "user_id_map = dict(zip(sales_df['encoded_user_id'], sales_df['user id']))\n",
    "product_id_map = dict(zip(sales_df['encoded_product_id'], sales_df['product id']))"
   ]
  },
  {
   "cell_type": "code",
   "execution_count": 7,
   "id": "805cc084-736d-492b-a46f-d0b25c42f1ed",
   "metadata": {},
   "outputs": [],
   "source": [
    "# Save Maps\n",
    "with open(os.path.join(DATA_DIR, 'user_id_map.pkl'), 'wb') as f:\n",
    "    pickle.dump(user_id_map, f)\n",
    "\n",
    "with open(os.path.join(DATA_DIR, 'product_id_map.pkl'), 'wb') as f:\n",
    "    pickle.dump(product_id_map, f)"
   ]
  },
  {
   "cell_type": "code",
   "execution_count": 8,
   "id": "2b7dd618-c2d5-4085-9f48-ee80c9195bcd",
   "metadata": {},
   "outputs": [],
   "source": [
    "# Connecting to the Neo4j database\n",
    "graph = Graph(\"bolt://localhost:7687\", auth=(\"neo4j\", \"1234123412\"))"
   ]
  },
  {
   "cell_type": "code",
   "execution_count": 9,
   "id": "f935047d-b502-41f0-9ecd-4a3f3c15bb58",
   "metadata": {},
   "outputs": [],
   "source": [
    "# Clear existing data\n",
    "graph.delete_all()"
   ]
  },
  {
   "cell_type": "code",
   "execution_count": 10,
   "id": "56bdb8ae-84ce-445d-bb9e-55cc7e836b8d",
   "metadata": {},
   "outputs": [],
   "source": [
    "# Create Customers Nodes\n",
    "for index, row in customers_df.iterrows():\n",
    "    customer_node = Node(\n",
    "        \"Customer\",\n",
    "        id=row['Customer ID'],\n",
    "        age=row['Age'],\n",
    "        gender=row['Gender'],\n",
    "        item_purchased=row['Item Purchased'],\n",
    "        category=row['Category'],\n",
    "        purchase_amount=row['Purchase Amount (USD)'],\n",
    "        location=row['Location'],\n",
    "        size=row['Size'],\n",
    "        color=row['Color'],\n",
    "        season=row['Season'],\n",
    "        review_rating=row['Review Rating'],\n",
    "        subscription_status=row['Subscription Status'],\n",
    "        shipping_type=row['Shipping Type'],\n",
    "        discount_applied=row['Discount Applied'],\n",
    "        promo_code_used=row['Promo Code Used'],\n",
    "        previous_purchases=row['Previous Purchases'],\n",
    "        payment_method=row['Payment Method'],\n",
    "        frequency=row['Frequency of Purchases']\n",
    "    )\n",
    "    graph.create(customer_node)\n",
    "\n",
    "# Create Product Nodes\n",
    "for index, row in products_df.iterrows():\n",
    "    product_node = Node(\n",
    "        \"Product\",\n",
    "        id=row['Uniqe Id'],\n",
    "        name=row['Product Name'],\n",
    "        brand=row['Brand Name'],\n",
    "        asin=row['Asin'],\n",
    "        category=row['Category'],\n",
    "        upc_ean_code=row['Upc Ean Code'],\n",
    "        list_price=row['List Price'],\n",
    "        selling_price=row['Selling Price'],\n",
    "        quantity=row['Quantity'],\n",
    "        model_number=row['Model Number'],\n",
    "        about_product=row['About Product'],\n",
    "        product_specification=row['Product Specification'],\n",
    "        technical_details=row['Technical Details'],\n",
    "        shipping_weight=row['Shipping Weight'],\n",
    "        product_dimensions=row['Product Dimensions'],\n",
    "        image=row['Image'],\n",
    "        variants=row['Variants'],\n",
    "        sku=row['Sku'],\n",
    "        product_url=row['Product Url'],\n",
    "        stock=row['Stock'],\n",
    "        product_details=row['Product Details'],\n",
    "        dimensions=row['Dimensions'],\n",
    "        color=row['Color'],\n",
    "        ingredients=row['Ingredients'],\n",
    "        direction_to_use=row['Direction To Use'],\n",
    "        is_amazon_seller=row['Is Amazon Seller'],\n",
    "        size_quantity_variant=row['Size Quantity Variant'],\n",
    "        product_description=row['Product Description']\n",
    "    )\n",
    "    graph.create(product_node)"
   ]
  },
  {
   "cell_type": "code",
   "execution_count": 11,
   "id": "7df63462-2db4-487d-bf84-50d76e2114eb",
   "metadata": {},
   "outputs": [],
   "source": [
    "# Creating interaction relationships\n",
    "for index, row in sales_df.iterrows():\n",
    "    user_node = graph.nodes.match(\"Customer\", id=row['user id']).first()\n",
    "    product_node = graph.nodes.match(\"Product\", id=row['product id']).first()\n",
    "    interaction_type = str(row['Interaction type']).upper()  # Convert to string and then upper case\n",
    "    if user_node and product_node:\n",
    "        interaction = Relationship(user_node, interaction_type, product_node, timestamp=row['Time stamp'])\n",
    "        graph.create(interaction)"
   ]
  },
  {
   "cell_type": "code",
   "execution_count": null,
   "id": "0a38063a-9171-47fb-a3e9-dfeb12af2323",
   "metadata": {},
   "outputs": [],
   "source": []
  }
 ],
 "metadata": {
  "kernelspec": {
   "display_name": "Python 3 (ipykernel)",
   "language": "python",
   "name": "python3"
  },
  "language_info": {
   "codemirror_mode": {
    "name": "ipython",
    "version": 3
   },
   "file_extension": ".py",
   "mimetype": "text/x-python",
   "name": "python",
   "nbconvert_exporter": "python",
   "pygments_lexer": "ipython3",
   "version": "3.8.6"
  }
 },
 "nbformat": 4,
 "nbformat_minor": 5
}
